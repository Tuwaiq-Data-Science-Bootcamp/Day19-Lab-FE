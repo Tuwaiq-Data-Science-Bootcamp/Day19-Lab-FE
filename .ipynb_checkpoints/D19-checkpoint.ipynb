{
 "cells": [
  {
   "cell_type": "markdown",
   "id": "ad389f24",
   "metadata": {},
   "source": [
    "# Day19-Lab-FE\n"
   ]
  },
  {
   "cell_type": "markdown",
   "id": "f0704823",
   "metadata": {},
   "source": [
    "\n",
    "# 1 Label Encoding\n",
    "---------------------------------------------------------------------------------------------\n",
    "It converts the labels to numbers \n",
    "\n",
    "![image](https://cdn.analyticsvidhya.com/wp-content/uploads/2020/03/Table1png.png) ![image](https://cdn.analyticsvidhya.com/wp-content/uploads/2020/02/table2-1.png)\n",
    "\n",
    "\n",
    "## Challenges\n",
    "1. The data is ranked based on the alphabets, lead to the generation of priority issues.(hot-encoding)\n",
    "2. It assumes that data don't have an order, so it can't be used with Ordinal data.(ordinal encoding)\n",
    "\n",
    "### Label encoding is the best with Target variables"
   ]
  },
  {
   "cell_type": "code",
   "execution_count": 9,
   "id": "cc9fa4f8",
   "metadata": {},
   "outputs": [],
   "source": [
    "from sklearn import preprocessing\n",
    "\n",
    "label_encoder = preprocessing.LabelEncoder()\n",
    "\n",
    "data['Country']= label_encoder.fit_transform(data['Country']) "
   ]
  },
  {
   "cell_type": "markdown",
   "id": "5c2ea3b5",
   "metadata": {},
   "source": [
    "# 2 Ordinal Encoding \n",
    "---------------------------------------------------------------------------------------------\n",
    "\n",
    "Used when the variables in the data have an order\n",
    "\n",
    "![image](https://miro.medium.com/max/640/1*QF5SZPFAQ7Y2qzV3aXW11A.png)\n",
    "![image](https://miro.medium.com/max/640/1*hciUJEYSMO6qz1xKLijUTA.png)\n",
    "\n",
    "## Assumptions\n",
    "It assumes order"
   ]
  },
  {
   "cell_type": "code",
   "execution_count": 7,
   "id": "6c4dfcb9",
   "metadata": {},
   "outputs": [],
   "source": [
    "from category_encoders import OrdinalEncoder \n",
    "maplist = [{'col': 'satisfaction_rating', 'mapping': {'Very Dissatisfied': 0, 'Dissatisfied': 1,'Neutral': 2, 'Satisfied': 3, 'Very Satisfied': 4}}]\n",
    "oe = OrdinalEncoder(mapping=maplist)\n",
    "oe.fit_transform(df)"
   ]
  },
  {
   "cell_type": "markdown",
   "id": "5f80f255",
   "metadata": {},
   "source": [
    "# 3 One-Hot Encoding\n",
    "---------------------------------------------------------------------------------------------\n",
    "\n",
    "\n",
    "Used for converting categorical variables to numerical by creates additional features based on the number of unique values in the categorical feature.\n",
    "\n",
    "![image](https://miro.medium.com/max/828/1*d5-PQyRRjvzBZjI5f7X3hA.png)\n",
    "\n",
    "##### it does'nt assume any order\n",
    "### Challenges\n",
    "\n",
    "1. one-hot encoder expand the dimensionality of the dataset\n",
    "2. Dummy Variable Trap (Multicollinearity)\n",
    "\n",
    "### Dummy Variable Encoding\n",
    "\n",
    "dropping one of the dummy variables\n",
    "\n",
    "![image](https://miro.medium.com/max/640/1*GlKVmFiao1DUFaxxu6Zucw.png)\n",
    "\n",
    "- “Red” color is encoded as [1 0] vector of size 2.\n",
    "- “Green” color is encoded as [0 1] vector of size 2.\n",
    "- “Blue” color is encoded as [0 0] vector of size 2.\n",
    "\n",
    " ### one-hot encoding is the good when The number of categorical features is less"
   ]
  },
  {
   "cell_type": "code",
   "execution_count": null,
   "id": "5edda128",
   "metadata": {},
   "outputs": [],
   "source": [
    "from sklearn.preprocessing import OneHotEncoder\n",
    "\n",
    "ohe = OneHotEncoder(categories='auto', drop=None,sparse=False)\n",
    "\n",
    "ohe_df = pd.DataFrame(ohe.fit_transform(df)"
   ]
  },
  {
   "cell_type": "markdown",
   "id": "d8ed33fc",
   "metadata": {},
   "source": [
    "# 4 Target Mean Encoding\n",
    "---------------------------------------------------------------------------------------------\n",
    "\n",
    "\n",
    "Replace a categorical value with the mean of the target variable.\n",
    "\n",
    "![image](https://miro.medium.com/max/828/1*8lK9mSxuPJ4b9SUXA3dN-A.png)\n",
    "\n",
    "### advantages \n",
    "\n",
    "1. it does not affect the volume of the data and helps in faster learning.\n",
    "2. it picks up values that can explain the target\n",
    "\n",
    "### Limitations\n",
    "\n",
    "1. may lead to overfitting ( feeding the features with information we are trying to model. This is like “cheating” since the model will learn from a variable that contains the target in itself)\n",
    "2. dataset-specific"
   ]
  },
  {
   "cell_type": "code",
   "execution_count": null,
   "id": "fbed6c81",
   "metadata": {},
   "outputs": [],
   "source": [
    "import pandas as pd\n",
    "from category_encoders import TargetEncoder\n",
    "\n",
    "encoder = TargetEncoder()\n",
    "df['tempreture'] = encoder.fit_transform(df['tempreture'], df['Target'])"
   ]
  },
  {
   "cell_type": "markdown",
   "id": "1a229110",
   "metadata": {},
   "source": [
    "# 5 Frequency Encoding\n",
    "\n",
    "---------------------------------------------------------------------------------------------\n",
    "\n",
    "It encodes categorical feature values to their frequencies\n",
    "\n",
    "![image](https://miro.medium.com/max/786/1*l0mPlpqFEK_DSu4OqSnvLg.jpeg)\n",
    "\n",
    "### Limitations\n",
    "lose valuable information if there are two different categories with the same amount of observations count\n"
   ]
  },
  {
   "cell_type": "markdown",
   "id": "20788a62",
   "metadata": {},
   "source": [
    "# 6 Binary Encoding\n",
    "\n",
    "---------------------------------------------------------------------------------------------\n",
    "\n",
    "Initially it ranks the categories then convert them into binary code\n",
    "\n",
    "![image](https://ithelp.ithome.com.tw/upload/images/20200905/20129584JJtMeWROIb.png)"
   ]
  }
 ],
 "metadata": {
  "kernelspec": {
   "display_name": "Python 3",
   "language": "python",
   "name": "python3"
  },
  "language_info": {
   "codemirror_mode": {
    "name": "ipython",
    "version": 3
   },
   "file_extension": ".py",
   "mimetype": "text/x-python",
   "name": "python",
   "nbconvert_exporter": "python",
   "pygments_lexer": "ipython3",
   "version": "3.8.5"
  }
 },
 "nbformat": 4,
 "nbformat_minor": 5
}
